{
 "cells": [
  {
   "cell_type": "markdown",
   "metadata": {},
   "source": [
    "# User routes on the site\n",
    "## Description\n",
    "**Clickstream** is a sequence of user actions on a website. It allows you to understand how users interact with the site. In this task, you need to find the most frequent custom routes.\n",
    "\n",
    "## Input data\n",
    "Input data is а table with clickstream data in file `hdfs:/data/clickstream.csv`.\n",
    "\n",
    "### Table structure\n",
    "* `user_id (int)` - Unique user identifier.\n",
    "* `session_id (int)` - Unique identifier for the user session. The user's session lasts until the identifier changes.\n",
    "* `event_type (string)` - Event type from the list:\n",
    "    * **page** - visit to the page\n",
    "    * **event** - any action on the page\n",
    "    * <b>&lt;custom&gt;</b> - string with any other type\n",
    "* `event_type (string)` - Page on the site.\n",
    "* `timestamp (int)` - Unix-timestamp of action.\n",
    "\n",
    "### Browser errors\n",
    "Errors can sometimes occur in the user's browser - after such an error appears, we can no longer trust the data of this session and all the following lines after the error or at the same time with it are considered corrupted and **should not be counted** in statistics.\n",
    "\n",
    "When an error occurs on the page, a random string containing the word **error** will be written to the `event_type` field.\n",
    "\n",
    "### Sample of user session\n",
    "<pre>\n",
    "+-------+----------+------------+----------+----------+\n",
    "|user_id|session_id|  event_type|event_page| timestamp|\n",
    "+-------+----------+------------+----------+----------+\n",
    "|    562|       507|        page|      main|1620494781|\n",
    "|    562|       507|       event|      main|1620494788|\n",
    "|    562|       507|       event|      main|1620494798|\n",
    "|    562|       507|        page|    family|1620494820|\n",
    "|    562|       507|       event|    family|1620494828|\n",
    "|    562|       507|        page|      main|1620494848|\n",
    "|    562|       507|wNaxLlerrorU|      main|1620494865|\n",
    "|    562|       507|       event|      main|1620494873|\n",
    "|    562|       507|        page|      news|1620494875|\n",
    "|    562|       507|        page|   tariffs|1620494876|\n",
    "|    562|       507|       event|   tariffs|1620494884|\n",
    "|    562|       514|        page|      main|1620728918|\n",
    "|    562|       514|       event|      main|1620729174|\n",
    "|    562|       514|        page|   archive|1620729674|\n",
    "|    562|       514|        page|     bonus|1620729797|\n",
    "|    562|       514|        page|   tariffs|1620731090|\n",
    "|    562|       514|       event|   tariffs|1620731187|\n",
    "+-------+----------+------------+----------+----------+\n",
    "</pre>\n",
    "\n",
    "#### Correct user routes for a given user:\n",
    "* **Session 507**: main-family-main\n",
    "* **Session 514**: main-archive-bonus-tariffs\n",
    "\n",
    "Route elements are ordered by the time they appear in the clickstream, from earliest to latest.\n",
    "\n",
    "The route must be accounted for completely before the end of the session or an error in the session.\n",
    "\n",
    "## Task\n",
    "You need to use the Spark SQL, Spark RDD and Spark DF interfaces to create a solution file, the lines of which contain **the 30 most frequent user routes** on the site.\n",
    "\n",
    "Each line of the file should contain the `route` and `count` values **separated by tabs**, where:\n",
    "* `route` - route on the site, consisting of pages separated by \"-\".\n",
    "* `count` - the number of user sessions in which this route was.\n",
    "\n",
    "The lines must be **ordered in descending order** of the `count` field.\n",
    "\n",
    "## Criteria\n",
    "You can get maximum of 3.5 points (final grade) for this assignment, depedning on the number of interface you manage to leverage. The criteria are as follows:\n",
    "\n",
    "* 0.5 points – Spark SQL solution with 1 query\n",
    "* 0.5 points – Spark SQL solution with <=2 queries\n",
    "* 0.5 points – Spark RDD solution\n",
    "* 0.5 points – Spark DF solution\n",
    "* 0.5 points – your solution algorithm is relatively optimized, i.e.: no O^2 or O^3 complexities; appropriate object usage; no data leaks etc. This is evaluated by staff.\n",
    "* 1 point – 1 on 1 screening session. During this session staff member can ask you questions regarding your solution logic, framework usage, questionable parts of your code etc. If your code is clean enough, the staff member can just ask you to solve a theoretical problem connected to Spark.\n"
   ]
  },
  {
   "cell_type": "markdown",
   "metadata": {},
   "source": [
    "# Initialization of SparkSession"
   ]
  },
  {
   "cell_type": "code",
   "execution_count": 1,
   "metadata": {
    "tags": []
   },
   "outputs": [
    {
     "name": "stderr",
     "output_type": "stream",
     "text": [
      "Setting default log level to \"WARN\".\n",
      "To adjust logging level use sc.setLogLevel(newLevel). For SparkR, use setLogLevel(newLevel).\n",
      "2024-01-12 08:54:53,129 WARN yarn.Client: Neither spark.yarn.jars nor spark.yarn.archive is set, falling back to uploading libraries under SPARK_HOME.\n"
     ]
    }
   ],
   "source": [
    "import findspark\n",
    "findspark.init()\n",
    "\n",
    "import pyspark\n",
    "sc = pyspark.SparkContext(appName=\"jupyter\")\n",
    "\n",
    "from pyspark.sql import SparkSession, Row\n",
    "spark = SparkSession(sc)"
   ]
  },
  {
   "cell_type": "code",
   "execution_count": 2,
   "metadata": {
    "tags": []
   },
   "outputs": [
    {
     "name": "stdout",
     "output_type": "stream",
     "text": [
      "Found 2 items\n",
      "drwxr-xr-x   - jovyan supergroup          0 2024-01-12 08:54 hdfs://localhost:9000/user/jovyan/.sparkStaging\n",
      "-rw-r--r--   1 jovyan supergroup   32241574 2024-01-08 11:09 hdfs://localhost:9000/user/jovyan/clickstream.csv\n"
     ]
    }
   ],
   "source": [
    "!hdfs dfs -ls hdfs://localhost:9000/user/jovyan/"
   ]
  },
  {
   "cell_type": "code",
   "execution_count": 3,
   "metadata": {
    "tags": []
   },
   "outputs": [
    {
     "name": "stdout",
     "output_type": "stream",
     "text": [
      "put: `hdfs://localhost:9000/user/jovyan/clickstream.csv': File exists\n"
     ]
    }
   ],
   "source": [
    "!hdfs dfs -put ./clickstream.csv hdfs://localhost:9000/user/jovyan/clickstream.csv"
   ]
  },
  {
   "cell_type": "markdown",
   "metadata": {},
   "source": [
    "# Spark SQL solution"
   ]
  },
  {
   "cell_type": "code",
   "execution_count": 4,
   "metadata": {
    "tags": []
   },
   "outputs": [],
   "source": [
    "from pyspark.sql import functions as F\n",
    "from pyspark.sql.window import Window"
   ]
  },
  {
   "cell_type": "code",
   "execution_count": 5,
   "metadata": {
    "tags": []
   },
   "outputs": [
    {
     "name": "stderr",
     "output_type": "stream",
     "text": [
      "                                                                                \r"
     ]
    }
   ],
   "source": [
    "# Load the data into a DataFrame\n",
    "clickstream = spark.read.option(\"header\", True).option(\"delimiter\", \"\\t\").csv(\"clickstream.csv\")"
   ]
  },
  {
   "cell_type": "code",
   "execution_count": 6,
   "metadata": {
    "tags": []
   },
   "outputs": [],
   "source": [
    "# Create a temporary view to query with SQL\n",
    "clickstream.createOrReplaceTempView(\"clickstream\")"
   ]
  },
  {
   "cell_type": "code",
   "execution_count": 7,
   "metadata": {
    "tags": []
   },
   "outputs": [],
   "source": [
    "# Perform the query\n",
    "result = spark.sql('''\n",
    "SELECT route, count(route) as cnt \n",
    "FROM (\n",
    "    SELECT user_id, session_id, CONCAT_WS(\"-\", COLLECT_LIST(event_page)) as route \n",
    "    FROM (\n",
    "        SELECT user_id, session_id, event_page,\n",
    "            LAG(event_page) OVER (\n",
    "                PARTITION BY user_id, session_id \n",
    "                ORDER BY timestamp\n",
    "            ) as prev_page \n",
    "        FROM (\n",
    "            SELECT user_id, session_id, event_type, event_page, timestamp,\n",
    "                MAX(CASE WHEN event_type LIKE '%error%' THEN 1 ELSE 0 END) OVER (\n",
    "                    PARTITION BY user_id, session_id \n",
    "                    ORDER BY timestamp\n",
    "                ) as error\n",
    "            FROM clickstream\n",
    "            DISTRIBUTE BY user_id, session_id\n",
    "            SORT BY user_id, session_id, timestamp\n",
    "        ) \n",
    "        WHERE event_type = 'page' AND error = 0\n",
    "    ) \n",
    "    WHERE event_page != prev_page OR prev_page IS NULL\n",
    "    GROUP BY user_id, session_id\n",
    ") \n",
    "GROUP BY route\n",
    "ORDER BY cnt DESC\n",
    "LIMIT 30\n",
    "''')"
   ]
  },
  {
   "cell_type": "code",
   "execution_count": 8,
   "metadata": {
    "tags": []
   },
   "outputs": [
    {
     "name": "stderr",
     "output_type": "stream",
     "text": [
      "                                                                                \r"
     ]
    }
   ],
   "source": [
    "# Save the result to a CSV file\n",
    "result.toPandas().to_csv('SQLResult.csv', header=False, index=False, sep='\\t')"
   ]
  },
  {
   "cell_type": "code",
   "execution_count": 9,
   "metadata": {
    "tags": []
   },
   "outputs": [
    {
     "name": "stdout",
     "output_type": "stream",
     "text": [
      "main\t8184\n",
      "main-archive\t1113\n",
      "main-rabota\t1046\n",
      "main-internet\t897\n",
      "main-bonus\t869\n",
      "main-news\t769\n",
      "main-tariffs\t677\n",
      "main-online\t587\n",
      "main-vklad\t518\n",
      "main-rabota-archive\t170\n",
      "main-archive-rabota\t167\n",
      "main-bonus-archive\t143\n",
      "main-rabota-bonus\t139\n",
      "main-news-rabota\t135\n",
      "main-bonus-rabota\t135\n",
      "main-archive-internet\t132\n",
      "main-rabota-news\t130\n",
      "main-internet-rabota\t129\n",
      "main-archive-news\t126\n",
      "main-rabota-internet\t124\n",
      "main-internet-archive\t123\n",
      "main-archive-bonus\t117\n",
      "main-internet-bonus\t115\n",
      "main-tariffs-internet\t114\n",
      "main-news-archive\t113\n",
      "main-news-internet\t109\n",
      "main-archive-tariffs\t104\n",
      "main-internet-news\t103\n",
      "main-tariffs-archive\t103\n",
      "main-rabota-main\t94\n"
     ]
    }
   ],
   "source": [
    "! cat SQLResult.csv"
   ]
  },
  {
   "cell_type": "markdown",
   "metadata": {},
   "source": [
    "# Spark RDD solution"
   ]
  },
  {
   "cell_type": "code",
   "execution_count": 10,
   "metadata": {
    "tags": []
   },
   "outputs": [],
   "source": [
    "# Load data as an RDD\n",
    "clickstream = sc.textFile(\"clickstream.csv\")"
   ]
  },
  {
   "cell_type": "code",
   "execution_count": 11,
   "metadata": {
    "tags": []
   },
   "outputs": [
    {
     "name": "stderr",
     "output_type": "stream",
     "text": [
      "                                                                                \r"
     ]
    }
   ],
   "source": [
    "# Remove the header\n",
    "header = clickstream.first()\n",
    "clickstream = clickstream.filter(lambda line: line != header)"
   ]
  },
  {
   "cell_type": "code",
   "execution_count": 12,
   "metadata": {
    "tags": []
   },
   "outputs": [],
   "source": [
    "# Process clickstream\n",
    "clickstream = clickstream.map(lambda line: line.split('\\t')) \\\n",
    "                         .map(lambda cols: (cols[0] + '-' + cols[1], cols[2], cols[3], cols[4]))"
   ]
  },
  {
   "cell_type": "code",
   "execution_count": 13,
   "metadata": {},
   "outputs": [],
   "source": [
    "# Get minimum error times\n",
    "min_error_time = clickstream.filter(lambda x: 'error' in x[1]) \\\n",
    "                            .map(lambda x: (x[0], int(x[3]))) \\\n",
    "                            .reduceByKey(min)"
   ]
  },
  {
   "cell_type": "code",
   "execution_count": 14,
   "metadata": {},
   "outputs": [],
   "source": [
    "# Join clickstream with minimum error times, then filter before events\n",
    "clickstream_joined = clickstream.map(lambda x: (x[0], x)) \\\n",
    "                                .leftOuterJoin(min_error_time) \\\n",
    "                                .filter(lambda x: 'error' not in x[1][0][1] and int(x[1][0][3]) < (x[1][1] if x[1][1] is not None else float('inf'))) \\\n",
    "                                .map(lambda x: x[1][0])"
   ]
  },
  {
   "cell_type": "code",
   "execution_count": 15,
   "metadata": {},
   "outputs": [],
   "source": [
    "# Process clickstream\n",
    "from itertools import groupby\n",
    "\n",
    "clickstream_grouped = clickstream_joined.map(lambda x: (x[0], (x[2], x[3]))) \\\n",
    "                                        .groupByKey() \\\n",
    "                                        .mapValues(lambda values: sorted(values, key=lambda x: x[1]))"
   ]
  },
  {
   "cell_type": "code",
   "execution_count": 16,
   "metadata": {},
   "outputs": [],
   "source": [
    "# Helper function\n",
    "def get_route(row):\n",
    "    return '-'.join([key for key, _ in groupby((x[0] for x in row))])"
   ]
  },
  {
   "cell_type": "code",
   "execution_count": 17,
   "metadata": {},
   "outputs": [
    {
     "name": "stderr",
     "output_type": "stream",
     "text": [
      "                                                                                \r"
     ]
    }
   ],
   "source": [
    "# Create routs\n",
    "route_counts = clickstream_grouped.map(lambda x: (get_route(x[1]), 1)) \\\n",
    "                                  .reduceByKey(lambda a, b: a + b) \\\n",
    "                                  .sortBy(lambda x: x[1], ascending=False) \\\n",
    "                                  .take(30)"
   ]
  },
  {
   "cell_type": "code",
   "execution_count": 18,
   "metadata": {
    "tags": []
   },
   "outputs": [
    {
     "name": "stdout",
     "output_type": "stream",
     "text": [
      "('main', 8184)\n",
      "('main-archive', 1113)\n",
      "('main-rabota', 1047)\n",
      "('main-internet', 897)\n",
      "('main-bonus', 870)\n",
      "('main-news', 769)\n",
      "('main-tariffs', 677)\n",
      "('main-online', 587)\n",
      "('main-vklad', 518)\n",
      "('main-rabota-archive', 170)\n",
      "('main-archive-rabota', 167)\n",
      "('main-bonus-archive', 143)\n",
      "('main-rabota-bonus', 139)\n",
      "('main-news-rabota', 135)\n",
      "('main-bonus-rabota', 135)\n",
      "('main-archive-internet', 132)\n",
      "('main-rabota-news', 130)\n",
      "('main-internet-rabota', 129)\n",
      "('main-archive-news', 126)\n",
      "('main-rabota-internet', 124)\n",
      "('main-internet-archive', 123)\n",
      "('main-archive-bonus', 117)\n",
      "('main-internet-bonus', 115)\n",
      "('main-tariffs-internet', 114)\n",
      "('main-news-archive', 113)\n",
      "('main-news-internet', 109)\n",
      "('main-archive-tariffs', 104)\n",
      "('main-internet-news', 103)\n",
      "('main-tariffs-archive', 103)\n",
      "('main-rabota-main', 94)\n"
     ]
    }
   ],
   "source": [
    "# Print results\n",
    "for tup in route_counts:\n",
    "    print(tup)"
   ]
  },
  {
   "cell_type": "code",
   "execution_count": 19,
   "metadata": {
    "tags": []
   },
   "outputs": [],
   "source": [
    "import csv\n",
    "\n",
    "with open('RDDResult.csv', 'w', newline='') as file:\n",
    "    writer = csv.writer(file)\n",
    "    writer.writerow(['route', 'count'])\n",
    "\n",
    "    for data in route_counts:\n",
    "        writer.writerow(data)"
   ]
  },
  {
   "cell_type": "markdown",
   "metadata": {},
   "source": [
    "# Spark DF solution"
   ]
  },
  {
   "cell_type": "code",
   "execution_count": 20,
   "metadata": {
    "tags": []
   },
   "outputs": [],
   "source": [
    "from pyspark.sql.functions import col, expr, lag, when, collect_list, concat_ws\n",
    "from pyspark.sql.window import Window"
   ]
  },
  {
   "cell_type": "code",
   "execution_count": 21,
   "metadata": {
    "tags": []
   },
   "outputs": [
    {
     "name": "stderr",
     "output_type": "stream",
     "text": [
      "                                                                                \r"
     ]
    }
   ],
   "source": [
    "# Read data\n",
    "clickstream = (\n",
    "    spark.read.options(header=True, delimiter=\"\\t\", inferSchema=True).csv(\"clickstream.csv\")\n",
    "    .withColumn(\"error_time\", when(col(\"event_type\").rlike(\"error\"), col(\"timestamp\")).otherwise(float('inf')))\n",
    ")"
   ]
  },
  {
   "cell_type": "code",
   "execution_count": 22,
   "metadata": {
    "tags": []
   },
   "outputs": [],
   "source": [
    "# Find minimum error time if any for each (session_id, user_id) pair\n",
    "min_error_time = clickstream.groupBy(\"session_id\", \"user_id\").min(\"error_time\").alias(\"min_error_time\")"
   ]
  },
  {
   "cell_type": "code",
   "execution_count": 23,
   "metadata": {
    "tags": []
   },
   "outputs": [],
   "source": [
    "# Join clickstream with minimum error time and adjust the 'timestamp' column on errors\n",
    "clickstream_adjusted = (\n",
    "    clickstream.join(min_error_time, [\"session_id\", \"user_id\"], how=\"left\")\n",
    "    .withColumn(\"timestamp\", when(col(\"event_type\").rlike(\"error\"), col(\"timestamp\") + 1).otherwise(col(\"timestamp\")))\n",
    "    .where(col(\"timestamp\") <= col(\"min(error_time)\"))\n",
    "    .where(col(\"event_type\") != \"event\")\n",
    ")"
   ]
  },
  {
   "cell_type": "code",
   "execution_count": 24,
   "metadata": {
    "tags": []
   },
   "outputs": [],
   "source": [
    "# Calculate the lag of the 'event_page' column per session_id, user_id, and order by timestamp\n",
    "partition_window = Window.partitionBy(\"session_id\", \"user_id\").orderBy(\"timestamp\")\n",
    "clickstream_with_lag = clickstream_adjusted.withColumn(\"LAG\", lag(\"event_page\", 1).over(partition_window))"
   ]
  },
  {
   "cell_type": "code",
   "execution_count": 25,
   "metadata": {
    "tags": []
   },
   "outputs": [],
   "source": [
    "# Filter out records where the current event_page is the same as the previous (LAG column)\n",
    "distinct_clickstream = clickstream_with_lag.filter(expr(\"event_page IS DISTINCT FROM LAG\"))"
   ]
  },
  {
   "cell_type": "code",
   "execution_count": 26,
   "metadata": {
    "tags": []
   },
   "outputs": [],
   "source": [
    "# Aggregate the distinct event_page values to form the route for each session_id, user_id pair\n",
    "routes = (\n",
    "    distinct_clickstream.groupBy(\"session_id\", \"user_id\")\n",
    "    .agg(concat_ws(\"-\", collect_list(\"event_page\")).alias(\"route\"))\n",
    ")"
   ]
  },
  {
   "cell_type": "code",
   "execution_count": 27,
   "metadata": {
    "tags": []
   },
   "outputs": [],
   "source": [
    "# Count occurrences of each route, sort by count, and take the top 30\n",
    "top_routes = (\n",
    "    routes.groupBy(\"route\").count()\n",
    "    .orderBy(\"count\", ascending=False)\n",
    "    .limit(30)\n",
    ")"
   ]
  },
  {
   "cell_type": "code",
   "execution_count": 28,
   "metadata": {
    "tags": []
   },
   "outputs": [
    {
     "name": "stderr",
     "output_type": "stream",
     "text": [
      "[Stage 31:=================================================>        (6 + 1) / 7]\r"
     ]
    },
    {
     "name": "stdout",
     "output_type": "stream",
     "text": [
      "+--------------------+-----+\n",
      "|               route|count|\n",
      "+--------------------+-----+\n",
      "|                main| 8184|\n",
      "|        main-archive| 1112|\n",
      "|         main-rabota| 1048|\n",
      "|       main-internet|  897|\n",
      "|          main-bonus|  870|\n",
      "|           main-news|  768|\n",
      "|        main-tariffs|  677|\n",
      "|         main-online|  587|\n",
      "|          main-vklad|  517|\n",
      "| main-rabota-archive|  170|\n",
      "| main-archive-rabota|  167|\n",
      "|  main-bonus-archive|  143|\n",
      "|   main-rabota-bonus|  138|\n",
      "|   main-bonus-rabota|  135|\n",
      "|    main-news-rabota|  135|\n",
      "|main-archive-inte...|  132|\n",
      "|    main-rabota-news|  130|\n",
      "|main-internet-rabota|  129|\n",
      "|   main-archive-news|  126|\n",
      "|main-rabota-internet|  124|\n",
      "|main-internet-arc...|  123|\n",
      "|  main-archive-bonus|  118|\n",
      "| main-internet-bonus|  115|\n",
      "|main-tariffs-inte...|  113|\n",
      "|   main-news-archive|  113|\n",
      "|  main-news-internet|  109|\n",
      "|main-archive-tariffs|  104|\n",
      "|  main-internet-news|  103|\n",
      "|main-tariffs-archive|  103|\n",
      "|    main-rabota-main|   94|\n",
      "+--------------------+-----+\n",
      "\n"
     ]
    },
    {
     "name": "stderr",
     "output_type": "stream",
     "text": [
      "                                                                                \r"
     ]
    }
   ],
   "source": [
    "top_routes.show(30) # truncate=False)"
   ]
  },
  {
   "cell_type": "code",
   "execution_count": 29,
   "metadata": {
    "tags": []
   },
   "outputs": [
    {
     "name": "stderr",
     "output_type": "stream",
     "text": [
      "                                                                                \r"
     ]
    }
   ],
   "source": [
    "top_routes.toPandas().to_csv('DataFrameResult.csv', header=False, index=False, sep='\\t')"
   ]
  },
  {
   "cell_type": "markdown",
   "metadata": {},
   "source": [
    "## Stop session"
   ]
  },
  {
   "cell_type": "code",
   "execution_count": 30,
   "metadata": {
    "tags": []
   },
   "outputs": [],
   "source": [
    "spark.stop()"
   ]
  }
 ],
 "metadata": {
  "coursera": {
   "schema_names": [
    "week-4-spark-homework"
   ]
  },
  "kernelspec": {
   "display_name": "Python 3 (ipykernel)",
   "language": "python",
   "name": "python3"
  },
  "language_info": {
   "codemirror_mode": {
    "name": "ipython",
    "version": 3
   },
   "file_extension": ".py",
   "mimetype": "text/x-python",
   "name": "python",
   "nbconvert_exporter": "python",
   "pygments_lexer": "ipython3",
   "version": "3.10.9"
  },
  "vscode": {
   "interpreter": {
    "hash": "31f2aee4e71d21fbe5cf8b01ff0e069b9275f58929596ceb00d14d90e3e16cd6"
   }
  }
 },
 "nbformat": 4,
 "nbformat_minor": 4
}
